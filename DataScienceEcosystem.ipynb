{
 "cells": [
  {
   "cell_type": "markdown",
   "id": "1970a335",
   "metadata": {},
   "source": [
    "<h1>Data Science Tools and Ecosystem</h1>"
   ]
  },
  {
   "attachments": {},
   "cell_type": "markdown",
   "id": "e0753593",
   "metadata": {},
   "source": [
    "In this notebook, Data Science Tools and Ecosystem are summarized."
   ]
  },
  {
   "cell_type": "markdown",
   "id": "81510f77",
   "metadata": {},
   "source": [
    "Some of the popular languages that Data Scientists use are:\n",
    "Python<br>\n",
    "R<br>\n",
    "SQL<br>\n",
    "Julia<br>\n",
    "Scala<br>\n",
    "Java<br>\n",
    "MATLAB<br>\n",
    "SAS<br>"
   ]
  },
  {
   "cell_type": "markdown",
   "id": "390e5574",
   "metadata": {},
   "source": [
    "some of the key takeaways from the course\n",
    "<ul>\n",
    "\n",
    "<li> Commonly used libraries\n",
    "<li> Some Basic arithmetic operations\n",
    "<li> Tool that help in Data science"
   ]
  },
  {
   "cell_type": "markdown",
   "id": "384ff5b3",
   "metadata": {},
   "source": [
    "Some of the commonly used libraries used by Data Scientists include: \n",
    "1:NumPy<br>\n",
    "2:pandas<br>\n",
    "3:Matplotlib<br>\n",
    "4:Seaborn<br>\n",
    "5:Scikit-learn<br>\n",
    "6:TensorFlow<br>\n",
    "7:PyTorch<br>\n",
    "8:Keras<br>\n",
    "9:NLTK (Natural Language Toolkit)<br>\n",
    "10:Scrapy<br>\n",
    "11:Beautiful Soup<br>"
   ]
  },
  {
   "cell_type": "markdown",
   "id": "d14391e5",
   "metadata": {},
   "source": [
    "<table>\n",
    "  <tr>\n",
    "    <th>Data Science Tools</th>\n",
    "  </tr>\n",
    "  <tr>\n",
    "    <td>Jupyter Notebooks</td>\n",
    "  </tr>\n",
    "  <tr>\n",
    "    <td>RStudio</td>\n",
    "  </tr>\n",
    "  <tr>\n",
    "    <td>VS Code with Python ext</td>\n",
    "  </tr>\n",
    "</table>"
   ]
  },
  {
   "cell_type": "markdown",
   "id": "e96b0a87",
   "metadata": {},
   "source": [
    "<h3>Below are a few examples of evaluating arithmetic expressions in Python</h3>\n",
    "\n",
    "<h4>Addition<h4/>\n",
    "result_addition = 10 + 5\n",
    "    \n",
    "<h4>Subtraction<h4/>\n",
    "result_subtraction = 10 - 5\n",
    "    \n",
    "<h4>Multiplication<h4/>\n",
    "result_multiplication = 10 * 5\n",
    "\n",
    "<h4>Division<h4/>\n",
    "result_division = 10 / 5"
   ]
  },
  {
   "cell_type": "code",
   "execution_count": 5,
   "id": "60096562",
   "metadata": {},
   "outputs": [
    {
     "name": "stdout",
     "output_type": "stream",
     "text": [
      "17\n"
     ]
    }
   ],
   "source": [
    "# This is a simple arithmetic expression to multiply then add integers.\n",
    "result = (3 * 4) + 5\n",
    "print(result)"
   ]
  },
  {
   "cell_type": "code",
   "execution_count": 6,
   "id": "409afbe1",
   "metadata": {},
   "outputs": [
    {
     "name": "stdout",
     "output_type": "stream",
     "text": [
      "3.3333333333333335\n"
     ]
    }
   ],
   "source": [
    "# This will convert 200 minutes to hours by dividing by 60.\n",
    "minutes = 200\n",
    "hours = minutes / 60\n",
    "print(hours)\n"
   ]
  },
  {
   "cell_type": "markdown",
   "id": "3eabbad3",
   "metadata": {},
   "source": [
    "<h3>Author Name:</h3><br>\n",
    "Haris Masood"
   ]
  },
  {
   "cell_type": "code",
   "execution_count": null,
   "id": "58f42c2e",
   "metadata": {},
   "outputs": [],
   "source": []
  }
 ],
 "metadata": {
  "kernelspec": {
   "display_name": "Python 3 (ipykernel)",
   "language": "python",
   "name": "python3"
  },
  "language_info": {
   "codemirror_mode": {
    "name": "ipython",
    "version": 3
   },
   "file_extension": ".py",
   "mimetype": "text/x-python",
   "name": "python",
   "nbconvert_exporter": "python",
   "pygments_lexer": "ipython3",
   "version": "3.11.5"
  }
 },
 "nbformat": 4,
 "nbformat_minor": 5
}
